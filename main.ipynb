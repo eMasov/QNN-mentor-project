{
 "cells": [
  {
   "cell_type": "code",
   "execution_count": 86,
   "metadata": {},
   "outputs": [],
   "source": [
    "import torch\n",
    "import torch.nn as nn\n",
    "import torch.nn.functional as F\n",
    "import torchvision\n",
    "import numpy as np\n",
    "import matplotlib.pyplot as plt\n",
    "import os\n",
    "import copy\n",
    "\n",
    "import torch.optim as optim\n",
    "from torch.optim import lr_scheduler\n",
    "from torchvision import datasets, models, transforms\n",
    "import pennylane"
   ]
  },
  {
   "cell_type": "code",
   "execution_count": 87,
   "metadata": {},
   "outputs": [
    {
     "data": {
      "text/plain": [
       "device(type='cpu')"
      ]
     },
     "execution_count": 87,
     "metadata": {},
     "output_type": "execute_result"
    }
   ],
   "source": [
    "device = torch.device(\"cuda\" if torch.cuda.is_available() else \"cpu\")\n",
    "device"
   ]
  },
  {
   "attachments": {},
   "cell_type": "markdown",
   "metadata": {},
   "source": [
    "Transforms"
   ]
  },
  {
   "cell_type": "code",
   "execution_count": 88,
   "metadata": {},
   "outputs": [],
   "source": [
    "mean = np.array([0.5, 0.5, 0.5])\n",
    "std = np.array([0.25, 0.25, 0.25])"
   ]
  },
  {
   "cell_type": "code",
   "execution_count": 89,
   "metadata": {},
   "outputs": [],
   "source": [
    "data_transforms = {\n",
    "    'train': transforms.Compose([\n",
    "        transforms.RandomResizedCrop(224),\n",
    "        transforms.RandomHorizontalFlip(),\n",
    "        transforms.ToTensor(),\n",
    "        transforms.Normalize(mean, std)\n",
    "    ]),\n",
    "    'val': transforms.Compose([\n",
    "        transforms.Resize(256),\n",
    "        transforms.CenterCrop(224),\n",
    "        transforms.ToTensor(),\n",
    "        transforms.Normalize(mean, std)\n",
    "    ]),\n",
    "}"
   ]
  },
  {
   "attachments": {},
   "cell_type": "markdown",
   "metadata": {},
   "source": [
    "Importing data"
   ]
  },
  {
   "cell_type": "code",
   "execution_count": 90,
   "metadata": {},
   "outputs": [],
   "source": [
    "batch_size = 4 "
   ]
  },
  {
   "cell_type": "code",
   "execution_count": 91,
   "metadata": {},
   "outputs": [
    {
     "data": {
      "text/plain": [
       "['ants', 'bees']"
      ]
     },
     "execution_count": 91,
     "metadata": {},
     "output_type": "execute_result"
    }
   ],
   "source": [
    "data_dir = 'hymenoptera_data/'\n",
    "sets = ['train', 'val']\n",
    "\n",
    "image_datasets = {set: datasets.ImageFolder(os.path.join(data_dir, set),\n",
    "                                          data_transforms[set])\n",
    "                  for set in sets}\n",
    "\n",
    "train_loader = torch.utils.data.DataLoader(image_datasets['train'], batch_size=batch_size,\n",
    "                                             shuffle=True, num_workers=2)\n",
    "\n",
    "test_loader = torch.utils.data.DataLoader(image_datasets['val'], batch_size=batch_size,\n",
    "                                             shuffle=True, num_workers=2)\n",
    "\n",
    "dataset_sizes = {set: len(image_datasets[set]) for set in sets}\n",
    "classes = image_datasets['train'].classes\n",
    "classes"
   ]
  },
  {
   "cell_type": "code",
   "execution_count": 92,
   "metadata": {},
   "outputs": [],
   "source": [
    "def imshow(img):\n",
    "    img = img / 2 + 0.5  # unnormalize\n",
    "    npimg = img.numpy()\n",
    "    plt.imshow(np.transpose(npimg, (1, 2, 0)))\n",
    "    plt.show()"
   ]
  },
  {
   "cell_type": "code",
   "execution_count": 93,
   "metadata": {},
   "outputs": [],
   "source": [
    "losses = list()\n",
    "def train(model, train_loader, criterion, optimizer, num_epochs=100):\n",
    "    for epoch in range(num_epochs):\n",
    "        running_loss = 0\n",
    "        for images, labels in train_loader:\n",
    "            images = images.to(device)\n",
    "            labels = labels.to(device)\n",
    "\n",
    "            output = model(images)\n",
    "            loss = criterion(output, labels)\n",
    "            running_loss += loss.item()\n",
    "\n",
    "            optimizer.zero_grad()\n",
    "            loss.backward()\n",
    "            optimizer.step()\n",
    "        #scheduler.step()\n",
    "        losses.append(running_loss)\n",
    "        print(f\"Epoch {epoch + 1} / {num_epochs}\")\n",
    "    print('Training is finished')\n",
    "    return model"
   ]
  },
  {
   "cell_type": "code",
   "execution_count": 101,
   "metadata": {},
   "outputs": [],
   "source": [
    "def predict(model, test_loader, batch_size=batch_size):\n",
    "  n_samples = 0\n",
    "  n_correct = 0\n",
    "  n_class_samples = np.zeros(2)\n",
    "  n_class_correct = np.zeros(2)\n",
    "  for images, labels in test_loader:\n",
    "    images, labels = images.to(device), labels.to(device)\n",
    "    with torch.no_grad():\n",
    "      output = model(images)\n",
    "    _, predictions = torch.max(output, -1)\n",
    "    n_samples += labels.size(0)\n",
    "    n_correct += (predictions==labels).sum().item()\n",
    "    \n",
    "    for i in range(images.shape[0]):\n",
    "      label = labels[i]\n",
    "      pred = predictions[i]\n",
    "      if (label == pred):\n",
    "        n_class_correct[label] += 1\n",
    "      n_class_samples[label] += 1\n",
    "\n",
    "  acc = 100.0 * n_correct / n_samples\n",
    "  print(f'Accuracy of the network: {acc} %')\n",
    "\n",
    "  for i in range(2):\n",
    "    acc = 100.0 * n_class_correct[i] / n_class_samples[i]\n",
    "    print(f'Accuracy of {classes[i]}: {acc} %')"
   ]
  },
  {
   "cell_type": "code",
   "execution_count": 103,
   "metadata": {},
   "outputs": [
    {
     "name": "stderr",
     "output_type": "stream",
     "text": [
      "c:\\Users\\egorm\\AppData\\Local\\Programs\\Python\\Python310\\lib\\site-packages\\torchvision\\models\\_utils.py:208: UserWarning: The parameter 'pretrained' is deprecated since 0.13 and may be removed in the future, please use 'weights' instead.\n",
      "  warnings.warn(\n",
      "c:\\Users\\egorm\\AppData\\Local\\Programs\\Python\\Python310\\lib\\site-packages\\torchvision\\models\\_utils.py:223: UserWarning: Arguments other than a weight enum or `None` for 'weights' are deprecated since 0.13 and may be removed in the future. The current behavior is equivalent to passing `weights=ResNet18_Weights.IMAGENET1K_V1`. You can also use `weights=ResNet18_Weights.DEFAULT` to get the most up-to-date weights.\n",
      "  warnings.warn(msg)\n"
     ]
    },
    {
     "name": "stdout",
     "output_type": "stream",
     "text": [
      "Epoch 1 / 50\n",
      "Epoch 2 / 50\n",
      "Epoch 3 / 50\n",
      "Epoch 4 / 50\n",
      "Epoch 5 / 50\n",
      "Epoch 6 / 50\n",
      "Epoch 7 / 50\n",
      "Epoch 8 / 50\n",
      "Epoch 9 / 50\n",
      "Epoch 10 / 50\n",
      "Epoch 11 / 50\n",
      "Epoch 12 / 50\n",
      "Epoch 13 / 50\n",
      "Epoch 14 / 50\n",
      "Epoch 15 / 50\n",
      "Epoch 16 / 50\n",
      "Epoch 17 / 50\n",
      "Epoch 18 / 50\n",
      "Epoch 19 / 50\n",
      "Epoch 20 / 50\n",
      "Epoch 21 / 50\n",
      "Epoch 22 / 50\n",
      "Epoch 23 / 50\n",
      "Epoch 24 / 50\n",
      "Epoch 25 / 50\n",
      "Epoch 26 / 50\n",
      "Epoch 27 / 50\n",
      "Epoch 28 / 50\n",
      "Epoch 29 / 50\n",
      "Epoch 30 / 50\n",
      "Epoch 31 / 50\n",
      "Epoch 32 / 50\n",
      "Epoch 33 / 50\n",
      "Epoch 34 / 50\n",
      "Epoch 35 / 50\n",
      "Epoch 36 / 50\n",
      "Epoch 37 / 50\n",
      "Epoch 38 / 50\n",
      "Epoch 39 / 50\n",
      "Epoch 40 / 50\n",
      "Epoch 41 / 50\n",
      "Epoch 42 / 50\n",
      "Epoch 43 / 50\n",
      "Epoch 44 / 50\n",
      "Epoch 45 / 50\n",
      "Epoch 46 / 50\n",
      "Epoch 47 / 50\n",
      "Epoch 48 / 50\n",
      "Epoch 49 / 50\n",
      "Epoch 50 / 50\n",
      "Training is finished\n"
     ]
    }
   ],
   "source": [
    "model = models.resnet18(pretrained=True)\n",
    "num_ftrs = model.fc.in_features\n",
    "model.fc = nn.Linear(num_ftrs, 2)\n",
    "model = model.to(device)\n",
    "criterion = nn.CrossEntropyLoss()\n",
    "optimizer = optim.SGD(model.parameters(), lr=0.001)\n",
    "model = train(model, train_loader, criterion, optimizer, num_epochs=50)"
   ]
  },
  {
   "cell_type": "code",
   "execution_count": 107,
   "metadata": {},
   "outputs": [
    {
     "data": {
      "image/png": "[encoded data removed]",
      "text/plain": [
       "<Figure size 640x480 with 1 Axes>"
      ]
     },
     "metadata": {},
     "output_type": "display_data"
    }
   ],
   "source": [
    "plt.plot(np.arange(len(losses)), losses)\n",
    "plt.show()"
   ]
  },
  {
   "cell_type": "code",
   "execution_count": 108,
   "metadata": {},
   "outputs": [
    {
     "name": "stdout",
     "output_type": "stream",
     "text": [
      "Accuracy of the network: 88.23529411764706 %\n",
      "Accuracy of ants: 97.14285714285714 %\n",
      "Accuracy of bees: 80.72289156626506 %\n"
     ]
    }
   ],
   "source": [
    "predict(model, test_loader, batch_size=batch_size)"
   ]
  }
 ],
 "metadata": {
  "kernelspec": {
   "display_name": "Python 3",
   "language": "python",
   "name": "python3"
  },
  "language_info": {
   "codemirror_mode": {
    "name": "ipython",
    "version": 3
   },
   "file_extension": ".py",
   "mimetype": "text/x-python",
   "name": "python",
   "nbconvert_exporter": "python",
   "pygments_lexer": "ipython3",
   "version": "3.10.7"
  },
  "orig_nbformat": 4
 },
 "nbformat": 4,
 "nbformat_minor": 2
}
